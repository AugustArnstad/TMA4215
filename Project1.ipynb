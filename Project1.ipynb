{
 "cells": [
  {
   "cell_type": "markdown",
   "metadata": {},
   "source": [
    "### TMA4215 Numerisk Matematikk \n",
    "\n",
    "Høst 2021 – September 16, 2021\n",
    "\n",
    "# Project 1: Newton Iteration\n",
    "\n",
    "### Notes\n",
    "\n",
    "This project is an individual project and should be solved that way. You can discuss the problems, but you should write the solutions _in your own words_.\n",
    "\n",
    "All code – also the tests – should be in individual cells that can just be run (as soon as the necessary functions are defined). Functions should only be used in cells _after_ their definition, such that an evaltuation in order of the notebook does not yield errors.\n",
    "\n",
    "The notebook with the answers should be uploaded in inspera.\n",
    "\n",
    "The project is obligatory and counts 10% on the final grade.\n",
    "\n",
    "### Submission Deadline\n",
    "Tuesday, October 5, 2021, 23:59."
   ]
  },
  {
   "cell_type": "markdown",
   "metadata": {},
   "source": [
    "## Introduction\n",
    "This project considers the Newton iteration for the $n$-dimensional nonlinear equation\n",
    "\n",
    "$$ \\mathbf F(\\mathbf x) = \\mathbf 0, $$\n",
    "\n",
    "i.e. $\\mathbf F\\colon \\mathbb R^n \\to \\mathbb R^n$. For the first two problems, we will consider the multivariate case. For the implementation, we stay with $n=1$."
   ]
  },
  {
   "cell_type": "markdown",
   "metadata": {},
   "source": [
    "## Problem 1\n",
    "\n",
    "1. Compute the gradient $\\nabla F$ and the Hessian $H_F$ of the Rosenbrock function $F\\colon \\mathbb R^2 \\to \\mathbb R$ defined by $F(\\mathbf x) = 100(x_2-x_1^2)^2 + (1-x_1)^2$.\n",
    "   Show that $\\mathbf x^* = (1,1)^\\mathrm{T}$ is the only local minimizer of this function and that the Hessian matrix at this point is positive definite."
   ]
  },
  {
   "cell_type": "markdown",
   "metadata": {},
   "source": [
    "We can compute the gradient, find the only local minimizer and then compute the Hessian.\n",
    "\n",
    "Gradient:\n",
    "$$\n",
    "\\nabla F= (\\frac{\\partial F}{\\partial x}, \\frac{\\partial F}{\\partial y})^T =\n",
    "\\begin{bmatrix}\n",
    "400(x_1^3-x_2x_1)\\\\ \n",
    "200(x_2-x_1^2) \\\\\n",
    "\\end{bmatrix}\n",
    "$$\n",
    "\n",
    "Local minimizer:\n",
    "Set $\\nabla F=0$ and obtain the two equations\n",
    "$$\n",
    "400(x_1^3-x_2x_1)=0\n",
    "200(x_2-x_1^2)=0\n",
    "$$\n",
    "yielding that \n",
    "$$\n",
    "x_1=x_2=1\n",
    "$$\n",
    "hence the only local minimizer must be $(1, 1)$\n",
    "\n",
    "Hessian:\n",
    "$$\n",
    "H_F = \\nabla ^2 F = \n",
    "\\begin{bmatrix}\n",
    "\\frac{\\partial^2 F}{\\partial^2 x} & \\frac{\\partial^2 F}{\\partial x \\partial y}\\\\ \n",
    "\\frac{\\partial^2 F}{\\partial y \\partial x} & \\frac{\\partial^2 F}{\\partial^2 y}\\\\\n",
    "\\end{bmatrix} = \n",
    "\\begin{bmatrix}\n",
    "400(3x_1-x_2) + 2 & -400x_1\\\\ \n",
    "-400x_1 & 200\\\\\n",
    "\\end{bmatrix}\n",
    "$$"
   ]
  },
  {
   "cell_type": "markdown",
   "metadata": {},
   "source": []
  },
  {
   "cell_type": "markdown",
   "metadata": {},
   "source": [
    "2. Show that the function $G\\colon \\mathbb R^2 \\to \\mathbb R$ defined by $G(\\mathbf x) = 8x_1 + 12x_2 + x_1^2-2x_2^2$ has one stationary point which is neither a maximum nor a minimum."
   ]
  },
  {
   "cell_type": "markdown",
   "metadata": {},
   "source": [
    "So we first find the gradient that gives us the stationary point, and then use the second-derivative test to determine the nature of the stationary point. \n",
    "\n",
    "$$\n",
    "\\nabla G = \n",
    "\\begin{bmatrix}\n",
    "8+2x_1\\\\ \n",
    "12-4x_2\\\\\n",
    "\\end{bmatrix}\n",
    "\\rightarrow\n",
    "x_1=-4, x_2=3\n",
    "$$\n",
    "So stationary point is $(-4, 3)$\n",
    "Furthermore the second derivative test yields:\n",
    "$$\n",
    "D=\\frac{\\partial ^2G}{\\partial ^2x} \\times \\frac{\\partial ^2G}{\\partial ^2y} - (\\frac{\\partial ^2G}{\\partial x \\partial y})^2\n",
    "$$\n",
    "And states that if $D<0$ it is a sadle point.\n",
    "So we compute\n",
    "$$\n",
    "D=2*(-4)-0^2 = -8\n",
    "$$\n",
    "Hence $(-4, 3)$ is a sadle point, not a local maximum or local minimum"
   ]
  },
  {
   "cell_type": "markdown",
   "metadata": {},
   "source": []
  },
  {
   "cell_type": "markdown",
   "metadata": {},
   "source": [
    "3. Use `matplotlib`s `pyplot` to plot `contour` plots on the unit square $\\Omega_1 = [-1,1]^2$ for $F_1$ and on the unit square $\\Omega_2 = [-10,10]^2$ for $G$."
   ]
  },
  {
   "cell_type": "code",
   "execution_count": 2,
   "metadata": {},
   "outputs": [
    {
     "data": {
      "image/png": "[encoded data removed]",
      "text/plain": [
       "<Figure size 432x288 with 2 Axes>"
      ]
     },
     "metadata": {
      "needs_background": "light"
     },
     "output_type": "display_data"
    },
    {
     "data": {
      "image/png": "[encoded data removed]",
      "text/plain": [
       "<Figure size 432x288 with 2 Axes>"
      ]
     },
     "metadata": {
      "needs_background": "light"
     },
     "output_type": "display_data"
    }
   ],
   "source": [
    "import numpy as np\n",
    "import matplotlib.pyplot as plt\n",
    "def F(x1, x2):\n",
    "    return 100*((x2-x1**(2))**(2)) + (1-x1)**2\n",
    "\n",
    "def G(x1, x2):\n",
    "    return 8*x1 + 12*x2 + x1**2 - 2*x2**(2)\n",
    "\n",
    "x1F = np.linspace(-1, 1, 100)\n",
    "x2F = np.linspace(-1, 1, 100)\n",
    "\n",
    "x1G = np.linspace(-10, 10, 100)\n",
    "x2G = np.linspace(-10, 10, 100)\n",
    "\n",
    "X1F, X2F = np.meshgrid(x1F, x2F)\n",
    "ZF = F(X1F, X2F)\n",
    "\n",
    "X1G, X2G = np.meshgrid(x1G, x2G)\n",
    "ZG=G(X1G, X2G)\n",
    "\n",
    "plt.figure(0)\n",
    "plt.contourf(X1F, X2F, ZF)\n",
    "plt.colorbar()\n",
    "plt.show()\n",
    "plt.figure(1)\n",
    "plt.contourf(X1G, X2G, ZG)\n",
    "plt.colorbar()\n",
    "plt.show()"
   ]
  },
  {
   "cell_type": "markdown",
   "metadata": {},
   "source": [
    "## Problem 2"
   ]
  },
  {
   "cell_type": "markdown",
   "metadata": {},
   "source": [
    "Let $A \\in \\mathbb R^{n \\times n}$ be symmetric.\n",
    "The Rayleigh quotient $F\\colon \\mathbb R^n \\to \\mathbb R$ for $A$ is defined as\n",
    "    \n",
    "$$ F(\\mathbf x) = \\frac{\\mathbf x^T\\! A \\mathbf x}{\\lVert \\mathbf x\\rVert_2^2}.$$\n",
    "\n",
    "The goal of this problem is to analyze Newton's method for finding minimizer (or stationary points) $\\mathbf x^\\ast$ of $F$ or in other words zeros of the gradient $\\nabla F(\\mathbf x) = \\mathbf 0$.\n",
    "\n",
    "To this end:\n",
    "\n",
    "1. Compute the gradient $\\nabla F$.\n",
    "2. What are the stationary points $\\mathbf x^\\ast$ of $F$? What is the value of $F(\\mathbf x^\\ast)$ then?\n",
    "3. Show that the Hessian matrix $\\nabla^2 F$ (i.e. the Jacobian of the Gradient $\\nabla F$) satisfies\n",
    "   \n",
    "   $$\\nabla^2 F(\\mathbf x) = \\frac{2}{\\lVert \\mathbf x \\rVert_2^2}\n",
    "\t\\Bigl(I - 2 \\frac{\\mathbf x \\mathbf x^T}{\\lVert \\mathbf x \\rVert_2^2}\\Bigr)\n",
    "    \\Bigl(A - F(\\mathbf x) I\\Bigr)\n",
    "    \\Bigl(I - 2 \\frac{\\mathbf x \\mathbf x^T}{\\lVert \\mathbf x \\rVert_2^2}\\Bigr)$$\n",
    "   \n",
    "   _Hint_: Start with the directional derivative into a direction $z$, i.e. $(\\nabla^2 F(x))z$.\n",
    "4. Assume during the iterations of a the _Newton Method_ descent we reach nearly an Eigenvector of $A$.\n",
    "   Then for $\\mathbf x$ an Eigenvector we are looking for a descent direction by solving the Newton equation\n",
    "    \n",
    "   $$\\nabla^2 F(\\mathbf x) \\, d = - \\nabla F(\\mathbf x)$$\n",
    "   \n",
    "   To what does the solution of this equation simplify in this case?\n",
    "5. What does the Newton iteration look like for the situation in 4?\n",
    "6. Interpret the result from 5 and analyze what the reason for this behavior is."
   ]
  },
  {
   "cell_type": "markdown",
   "metadata": {},
   "source": [
    "##### In this task all x are a vector, but due the trouble of writing them in LaTex I have chosen not to write them as $\\mathbf x$ but simply as $x$\n",
    "\n",
    "I have seen many different approaches to matrix calculus but I found the one used below both more simple and clean. Hence the choice of derivation. Not all steps are included in each derivation as I did not find it necessary. Furthermore I expect there not to be any need for in depth explanation of how things are done as I am certain the person grading this has far more knowledge than me.\n",
    "\n",
    "1)\n",
    "Let \n",
    "$$\n",
    "F(x)=\\frac{u(x)}{v(x)} \\\\\n",
    "u(x)=x^TAx \\\\\n",
    "v(x)=x^Tx=\\lVert x \\rVert_2^2\n",
    "$$\n",
    "so we get \n",
    "$$\n",
    "u(x+z)=u(x)+\\nabla u(x)z + O(\\lVert z \\rVert^2) = x^TAx + 2x^TAz + z^TAz \\\\ \n",
    "v(x+z)=v(x) +\\nabla v(x)z + O(\\lVert z \\rVert^2) = x^Tx + 2x^Tz + z^Tz\n",
    "$$\n",
    "s.t\n",
    "$$\n",
    "\\nabla u(x)=2x^TA \\\\\n",
    "\\nabla v(x)=2x^T\n",
    "$$\n",
    "Apply derivative of $\\frac{d}{dx}\\frac{u}{v}=\\frac{vu' - uv'}{v^2}$ and obtain \n",
    "$$\n",
    "\\nabla \\frac{u}{v} = \\nabla F = \\frac{x^Tx(2x^TA)-x^TAx(2x^T)}{(x^Tx)^2} = \\frac{2}{x^Tx}(x^TA-x^TF(x)I)=\\frac{2}{x^Tx}(Ax-F(x)I x)\n",
    "$$\n",
    "where we multiply F(x) by the identity matrix to make sure the subraction happens in the correct dimensions\n",
    "##### q.e.d.\n",
    "2)\n",
    "So we see that for $\\nabla F=0=\\frac{2}{x^Tx}(x^TA-x^TF(x))$ we must have\n",
    "$$\n",
    "Ax-xF(x)=0\n",
    "$$ \n",
    "which we recognize as being the solution to $det(A-\\lambda I)=0$\n",
    "and since $F$ is stationary we know that our lamba is a constant so we can say $F(\\mathbf x^\\ast)=\\lambda=constant$\n",
    "$$\n",
    "Ax-xF(\\mathbf x^\\ast)=0\n",
    "$$\n",
    "meaning that all stationary points are found in the eigenvector and the value of each point corresponds to the eigenvalues.\n",
    "##### q.e.d.\n",
    "3)\n",
    "So we start by dividing the gradient in two terms and do them seperately, so for the first term we use the quotient rule\n",
    "$$\n",
    "\\nabla (\\frac{2x^TA}{x^Tx}) = 2A \\frac{x^Tx - x2x^T}{(x^Tx)^2}\n",
    "$$\n",
    "for the second term we use the product rule, since we notice that we have already computed the derivative of the term $\\frac{2x}{x^Tx}$ above.\n",
    "$$\n",
    "\\nabla (\\frac{2F(x)x}{x^Tx})= 2\\left( \\left(\\frac{x^Tx - x2x^T}{(x^Tx)^2}\\right)F(x)I + \\frac{x}{x^Tx} \\nabla F(x) I \\right)= 2 \\left(\\frac{x^Tx - x2x^T}{(x^Tx)^2}\\right)F(x)I + \\frac{2x}{x^Tx}\\frac{2}{x^Tx}\\left (x^TA-x^TF(x)\\right)\n",
    "$$\n",
    "So by collecting some terms and making the expression more readable, we obtain \n",
    "$$\n",
    "\\frac{2}{x^Tx}\\left(A-\\frac{2Axx^T}{x^Tx} - F(x)I + \\frac{2xx^T}{x^Tx}F(x)I - \\frac{2xx^TA}{x^Tx} + \\frac{2xx^T}{x^Tx}F(x)I \\right)\n",
    "$$\n",
    "Now i tried putting this together to match the expression above, but found this to be a bit more difficult than expected. The simpler solution is expanding the expression above and see if it matches. \n",
    "So we expand the expression to find\n",
    "   $$\\nabla^2 F(\\mathbf x) = \\frac{2}{\\lVert \\mathbf x \\rVert_2^2}\n",
    "\t\\Bigl(I - 2 \\frac{\\mathbf x \\mathbf x^T}{\\lVert \\mathbf x \\rVert_2^2}\\Bigr)\n",
    "    \\Bigl(A - F(\\mathbf x) I\\Bigr)\n",
    "    \\Bigl(I - 2 \\frac{\\mathbf x \\mathbf x^T}{\\lVert \\mathbf x \\rVert_2^2}\\Bigr) \\\\\n",
    "    \\frac{2}{\\lVert \\mathbf x \\rVert_2^2}\n",
    "\t\\Bigl(I - 2 \\frac{\\mathbf x \\mathbf x^T}{\\lVert \\mathbf x \\rVert_2^2}\\Bigr)\n",
    "    \\Bigl(A - F(\\mathbf x) I\\Bigr)\n",
    "    \\Bigl(I - 2 \\frac{\\mathbf x \\mathbf x^T}{\\lVert \\mathbf x \\rVert_2^2}\\Bigr)\n",
    "    $$\n",
    "$$\n",
    "= \\frac{2}{x^Tx}\\left(I-\\frac{2xx^T}{x^Tx}\\right)\\left( A- \\frac{2Axx^T}{x^Tx} - F(x)I + \\frac{2F(x)xx^T}{x^Tx}\\right) \\\\ \n",
    "$$\n",
    "$$\n",
    "=\\frac{2}{x^Tx}\\left(A-\\frac{2xx^TA}{x^Tx} - F(x)I + \\frac{2xx^TF(x)}{x^Tx} - \\frac{2Axx^T}{x^Tx} + \\frac{4xx^TAxx^T}{(x^Tx)^2} + \\frac{2F(x)xx^T}{x^Tx} - \\frac{4xx^TF(x)xx^T}{(x^Tx)^2}\\right)\n",
    "$$\n",
    "At this step we notice that \n",
    "$$\n",
    "\\frac{4xx^TAxx^T}{(x^Tx)^2} = \\frac{4xF(x)x^T}{x^Tx} \\\\\n",
    "\\frac{4xx^TF(x)xx^T}{(x^Tx)^2} = \\frac{4xF(x)x^T}{x^Tx}\n",
    "$$\n",
    "So they cancel out and we are left with these two expressions, our computation and the given solution, respectively\n",
    "$$\n",
    "\\frac{2}{x^Tx}\\left(A-\\frac{2Ax^Tx}{x^Tx} - F(x)I + \\frac{2xx^T}{x^Tx}F(x)I - \\frac{2xx^TA}{x^Tx} + \\frac{2xx^T}{x^Tx}F(x)I \\right) \\\\\n",
    "\\frac{2}{x^Tx}\\left(A-\\frac{2Ax^Tx}{x^Tx} - F(x)I + \\frac{2xx^T}{x^Tx}F(x)I - \\frac{2xx^TA}{x^Tx} + \\frac{2xx^T}{x^Tx}F(x)I \\right)\n",
    "$$\n",
    "They are equivalent so our goal was achieved! \n",
    "Note: We need not care about the order of multiplication of terms such as $\\frac{2xx^T}{x^Tx}F(x)I$ and $\\frac{2F(x)xx^T}{x^Tx}$ since $F(x)$ is a real number.\n",
    "##### q.e.d.\n",
    "\n",
    "4)\n",
    "So we are to solve\n",
    "$$\n",
    "\\nabla^2 F(x^*) \\, d = - \\nabla F(x^*)\n",
    "$$\n",
    "i.e. \n",
    "$$\n",
    "\\frac{2}{x^{*T}x^*}\\left(A-\\frac{2Ax^*x^{*T}}{x^{*T}x^*} - F(x^*)I + \\frac{2x^*x^{*T}}{x^{*T}x^*}F(x^*)I - \\frac{2x^*x^{*T}A}{x^{*T}x^*} + \\frac{2x^*x^{*T}}{x^{*T}x^*}F(x^*)I \\right)d =-\\frac{2}{x^{*T}x^*}(Ax^*-F(x^*)I x^*) \n",
    "$$\n",
    "As the stationary points of $F$, from task 2.2, are the eigenvectors of $A$, our gradient will in this case be zero. So we may reduce our equation as follows\n",
    "$$\n",
    "\\frac{2}{x^{*T}x^*}\\left(A-\\frac{2Ax^*x^{*T}}{x^{*T}x^*} - F(x^*)I + \\frac{2x^*x^{*T}}{x^{*T}x^*}F(x^*)I - \\frac{2x^*x^{*T}A}{x^{*T}x^*} + \\frac{2x^*x^{*T}}{x^{*T}x^*}F(x^*)I \\right)d = 0\n",
    "$$\n",
    "Furthermore we notice that, from task 2.2 we have \n",
    "$$\n",
    "(A- IF(x^*))x^* = 0\n",
    "$$\n",
    "So the second and fourth term will cancel eachother out. This leads us to\n",
    "$$\n",
    "\\frac{2}{x^{*T}x^*}\\left(A-\\frac{2x^{*T}x^*A}{x^{*T}x^*} - F(x^*)I + \\frac{2x^*x^{*T}}{x^{*T}x^*}F(x^*)I \\right)d=0\n",
    "$$\n",
    "Firstly we see the solution $d=0$ to be trivial and we look for other solutions to the equation\n",
    "$$\n",
    "\\left(A-\\frac{2x^{*T}x^*A}{x^{*T}x^*} - F(x^*)I + \\frac{2x^*x^{*T}}{x^{*T}x^*}F(x^*)I \\right)d=0\n",
    "$$\n",
    "In compact form we obtain this to be\n",
    "$$\n",
    "\\left( (A-F(x^*)I) + \\frac{2x^*x^{*T}}{x^{*T}x^*}(A-F(x^*)I) \\right)d\n",
    "$$\n",
    "Where we have cut off the part $\\frac{2}{x^{*T}x^*}$ as it will not have any impact.\n",
    "\n",
    "Using the fact that $A$ and $F(x)I$ are symmetric, and so will the sum be, we say that \n",
    "$$\n",
    "(A- F(x^*)I)x^* = x^{*T}(A- F(x^*)I) = 0\n",
    "$$\n",
    "So we can simplify the latter parenthesis and obtain the following expression\n",
    "$$\n",
    "(A-F(x^*)I)d=0\n",
    "$$\n",
    "This equation is the same as for task 2.2, meaning that $d$ is equal to a multiple of the eigenvectors of $A$, i.e. $d=kx^*, k\\in \\mathbb{R}$, the stationary points of $F$.\n",
    "\n",
    "As a sidenote one might also see that \n",
    "$$\n",
    "d \\in Null\\{(A-F(x^*)I)\\} = Ker\\{(A-F(x^*)I)\\}\n",
    "$$\n",
    "And that again from task 2.2 this is the same as \n",
    "$$\n",
    "d \\in Null\\{(A-\\lambda I)\\} = Ker\\{(A-\\lambda I)\\}\n",
    "$$\n",
    "So $d$ will send our function to its nullspace.\n",
    "\n",
    "5)\n",
    "The Newton Iteration for this problem will take the form\n",
    "$$\n",
    "x_{n+1} = x_n + d = x_n + kx^*\n",
    "$$\n",
    "As d notes the direction of where the minima is achieved\n",
    "\n",
    "6)\n",
    "We may say that when we have nearly found an eigenvector $x^*$ we will be guided in to a direction, which further leads us to a more and more accurate result as we iterate. By iterating enough until $x^{(k)}$ is close to an eigenvectors, the direction, $F(x)$ will in turn become closer the the eigenvalue of that direction, solving our problem by finding the root. "
   ]
  },
  {
   "cell_type": "markdown",
   "metadata": {},
   "source": [
    "## Problem 3\n",
    "\n",
    "1. Implement a generic (simple) Newton iteration function of the form\n",
    "\n",
    "       def my_newton(f, Df, x0, **kwargs)\n",
    "\n",
    "   To look for a zero of the univariate function $f\\colon \\mathbb R \\to \\mathbb R$.\n",
    "   Hence the function performs the newton iteration for `f` and its derivative `Df` starting from `x0` performing `maxiter` steps, where `maxiter` is a keyword argument from `**kwargs`.\n",
    "   Provide a suitable default if no `maxiter` keyword is given.\n",
    "\n",
    "2. Extend the function from the first part of this problem with an additional keyword `tol` to stop, if $\\lvert f(x_k)\\rvert$ is smaller in absolute value than the tolerance `tol`.\n",
    "   What is a good default here to make the function work the same as in 1, i.e. that the default behavior (from 1) is not changed by this additional keyword?\n",
    "\n",
    "3. Document the function properly.\n",
    "\n",
    "4. Write at least two tests with simple functions. One should end with `maxiter` iterations, the other with a tolerance stop.\n"
   ]
  },
  {
   "cell_type": "code",
   "execution_count": 12,
   "metadata": {},
   "outputs": [],
   "source": [
    "import numpy as np\n",
    "import matplotlib.pyplot as plt\n",
    "def my_newton(f, Df, x0, **kwargs):\n",
    "    \n",
    "    count=0\n",
    "    \n",
    "    maxiter=kwargs.get(\"maxiter\", 5000) #Had to research this ony my own as I had not encountered it before\n",
    "    tol=kwargs.get(\"tol\", 1e-12)\n",
    "    \n",
    "    x=x0 + 0 #Same reason as why we copy matrices\n",
    "    \n",
    "    for i in range(maxiter):\n",
    "        df=Df(x)              \n",
    "        if df==0:         #Check to see that we do not encounter a division by 0\n",
    "            print(\"Not valid function for Newton iteration\")\n",
    "        count+=1\n",
    "        fx=f(x)           #New function value\n",
    "        xOld=x            #Storing our old x for iteration\n",
    "        x=xOld-fx/df      #Actual iteration\n",
    "        if abs(fx)<tol:\n",
    "            return x\n",
    "    ohno = \"maxiter reached\"\n",
    "    return ohno, count, \"f(x)=\", fx"
   ]
  },
  {
   "cell_type": "code",
   "execution_count": 13,
   "metadata": {},
   "outputs": [],
   "source": [
    "def f1(x):\n",
    "    return x**(3) - np.sqrt(x)      #Simple, differentiable function\n",
    "\n",
    "def df1(x):\n",
    "    return 3*x**(2) - 1/(2*np.sqrt(x))"
   ]
  },
  {
   "cell_type": "code",
   "execution_count": 14,
   "metadata": {},
   "outputs": [],
   "source": [
    "def f2(x):\n",
    "    return x**(2)+1                 #Function without a root\n",
    "\n",
    "def df2(x):\n",
    "    return 2*x"
   ]
  },
  {
   "cell_type": "code",
   "execution_count": 19,
   "metadata": {},
   "outputs": [
    {
     "name": "stdout",
     "output_type": "stream",
     "text": [
      "We found our root to be: \n",
      " 1.0\n"
     ]
    },
    {
     "data": {
      "text/plain": [
       "('maxiter reached', 3000, 'f(x)=', 4.612449873692926)"
      ]
     },
     "execution_count": 19,
     "metadata": {},
     "output_type": "execute_result"
    }
   ],
   "source": [
    "Test1=my_newton(f1, df1, 3, maxiter=3000)\n",
    "print(\"We found our root to be: \\n\", Test1)\n",
    "my_newton(f2, df2, 3, maxiter=3000)"
   ]
  },
  {
   "cell_type": "markdown",
   "metadata": {},
   "source": [
    "## Problem 4\n",
    "\n",
    "1. Write a function that uses `my_newton(f, Df, x0)` from Problem 3 to run the newton iteration on a grid of possible starting values from the complex square\n",
    "\n",
    "   $$ \\bigl\\{x + \\mathrm{i}y\\ \\big|\\ -1 \\leq x,y \\leq 1\\bigr\\} $$\n",
    "\n",
    "   sampled equidistantly on `n` points. For example for $n=3$ you get $\\{-1+\\mathrm{i}, \\mathrm{i}, 1+\\mathrm{i}, -1, 0, 1, -1-\\mathrm{i}, -\\mathrm{i}, -\\mathrm{i}-1\\}$ which are arranged in a mesh $x_{0,0},...,x_{2,2}$.\n",
    "   \n",
    "   **Obs!** Python uses `j` for the complex unit.\n",
    "   \n",
    "   In total, your function should be of the form\n",
    "   \n",
    "       eval_newton(f,Df,n)\n",
    "\n",
    "   and should return an `n`-by-`n` array `A`, that is $A=(a_{ij})$, where $i,j=1,\\ldots,n$, of resulting values from the $n^2$ Newton iteration runs.\n",
    "   \n",
    "2. How can we formulate the solution of $z^3 = 1$, where $z \\in \\mathbb C$ as a problem that fits our setting here? State $f$ and $f'$ accordingly.\n",
    "   If you now run `eval_newton(f,Df,n)` for example for `n=256`, how many different solutions do you expect?\n",
    "   Let $m$ be the answer to that question. Choose $m$ favourite colors and create an image with $n\\times n$ pixel, where a pixel gets the $k$th color if it converges to the $k$th of the solutions you have. Save/display this image in this notebook. If your code is fast enough, do this with `n=1024` instead. \n",
    "\n",
    "3. Similarly to the last point, solve the equation $z^5 = 1$ using `eval_newton`, again with `n=256` (or `n=1024` if you dare) for a maximal number of iterations (a) of $5$ and (b) of $15$.\n",
    "   \n",
    "   From each of the resulting arrays $A$ we again create an images. We proceed as follows:\n",
    "   Since a trivial solution of $z^5=1$ is $z_0=1$, we want to see the difference in _angle_ to this solution. Note that $z_0$ itself has an angle of $0$ in polar coordinates in the complex plane.\n",
    "   \n",
    "   Compute and visualize the phase (angle) of a resulting value to $z_0$ (see `numpy.angle`) of each result $a_{ij}\\in \\mathbb C$ in both arrays and use this angle as a value in the image."
   ]
  },
  {
   "cell_type": "code",
   "execution_count": 16,
   "metadata": {},
   "outputs": [],
   "source": [
    "def eval_newton(f,Df,n, **kwargs):\n",
    "    x=np.linspace(-1, 1, n)      \n",
    "    y=np.linspace(-1, 1, n)*1j\n",
    "    xx, yFlip=np.meshgrid(x, y)    #Simple meshgrid \n",
    "    yy= np.flip(yFlip)             #To obtain correct values as described above\n",
    "\n",
    "    original = xx+yy            \n",
    "\n",
    "    A=np.copy(original)            #Matrix containing our complex values\n",
    "    B=np.copy(original).real       #A copy for plotting purposes\n",
    "\n",
    "    for i in range(len(original)):\n",
    "        for j in range(len(original)):\n",
    "            A[i][j]=my_newton(f, Df, original[i][j], **kwargs)             #Newton iteration on each entry\n",
    "            B[i][j]=np.angle(my_newton(f, Df, original[i][j], **kwargs))   #Using np.angle as described\n",
    "    return A, B\n",
    "    "
   ]
  },
  {
   "cell_type": "code",
   "execution_count": 17,
   "metadata": {},
   "outputs": [
    {
     "data": {
      "image/png": "[encoded data removed]",
      "text/plain": [
       "<Figure size 432x288 with 2 Axes>"
      ]
     },
     "metadata": {
      "needs_background": "light"
     },
     "output_type": "display_data"
    }
   ],
   "source": [
    "def complexfnc(z):\n",
    "    return z**(3) - 1            #Our first function\n",
    "\n",
    "def complexDfnc(z):\n",
    "    return 3*z**(2)\n",
    "\n",
    "A1, B1 = eval_newton(complexfnc, complexDfnc, 1024)      \n",
    "\n",
    "plt.figure(2)\n",
    "plt.imshow(B1, extent=[-1, 1, -1, 1])     #Simple imshow with the boundary values. \n",
    "plt.xlabel(\"Re\")\n",
    "plt.ylabel(\"Im\")\n",
    "plt.title(\"Fractal $z^{3}=1$\")\n",
    "plt.colorbar()\n",
    "plt.show()"
   ]
  },
  {
   "cell_type": "code",
   "execution_count": 18,
   "metadata": {},
   "outputs": [
    {
     "data": {
      "image/png": "[encoded data removed]",
      "text/plain": [
       "<Figure size 432x288 with 2 Axes>"
      ]
     },
     "metadata": {
      "needs_background": "light"
     },
     "output_type": "display_data"
    }
   ],
   "source": [
    "def complexfnc2(z):\n",
    "    return z**(5) - 1           #Our second function\n",
    "\n",
    "def complexDfnc2(z):\n",
    "    return 5*z**(4)\n",
    "\n",
    "A2, B2 = eval_newton(complexfnc2, complexDfnc2, 1024)\n",
    "\n",
    "\n",
    "\n",
    "plt.figure(3)\n",
    "plt.imshow(B2, extent=[-1, 1, -1, 1])\n",
    "plt.xlabel(\"Re\")\n",
    "plt.ylabel(\"Im\")\n",
    "plt.title(\"Fractal $z^{5}=1$\")\n",
    "plt.colorbar()\n",
    "plt.show()"
   ]
  }
 ],
 "metadata": {
  "kernelspec": {
   "display_name": "Python 3",
   "language": "python",
   "name": "python3"
  },
  "language_info": {
   "codemirror_mode": {
    "name": "ipython",
    "version": 3
   },
   "file_extension": ".py",
   "mimetype": "text/x-python",
   "name": "python",
   "nbconvert_exporter": "python",
   "pygments_lexer": "ipython3",
   "version": "3.7.4"
  }
 },
 "nbformat": 4,
 "nbformat_minor": 5
}
